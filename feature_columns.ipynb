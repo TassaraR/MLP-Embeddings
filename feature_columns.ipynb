{
 "cells": [
  {
   "cell_type": "code",
   "execution_count": 1,
   "id": "50aec331-ae1b-4ca2-a458-29b1464374a2",
   "metadata": {},
   "outputs": [],
   "source": [
    "import pandas as pd\n",
    "import numpy as np\n",
    "from sklearn.preprocessing import LabelEncoder, StandardScaler\n",
    "from sklearn.model_selection import train_test_split\n",
    "import tensorflow as tf\n",
    "from tensorflow import feature_column\n",
    "import matplotlib.pyplot as plt\n",
    "import seaborn as sns"
   ]
  },
  {
   "cell_type": "code",
   "execution_count": 2,
   "id": "aefeffb0-9186-4602-9a81-74eb00b07e2a",
   "metadata": {},
   "outputs": [
    {
     "name": "stdout",
     "output_type": "stream",
     "text": [
      "Shape: (10232, 18)\n",
      "cat_cols: ['Name', 'Breed2', 'Gender', 'Color1', 'MaturitySize', 'FurLength', 'Vaccinated', 'Dewormed', 'Sterilized', 'Health', 'State', 'Description']\n",
      "num_cols ['Age', 'Quantity', 'Fee', 'VideoAmt', 'PhotoAmt']\n"
     ]
    }
   ],
   "source": [
    "df = pd.read_csv('petfinder.csv')\n",
    "df = df[df.Type == 'Dog'] \n",
    "df.drop(columns='Type', inplace=True)\n",
    "cat_cols = df.columns[df.dtypes == 'object']\n",
    "num_cols = df.columns[(~(df.dtypes == 'object')) & (df.columns != 'Adoption')]\n",
    "print('Shape:', df.shape)\n",
    "print('cat_cols:', list(cat_cols))\n",
    "print('num_cols', list(num_cols))\n",
    "label = 'Adoption'\n",
    "ohe_df = df.copy(deep=True)"
   ]
  },
  {
   "cell_type": "code",
   "execution_count": 3,
   "id": "e41c21e6-109f-4d53-9433-53f4970faa5c",
   "metadata": {},
   "outputs": [
    {
     "data": {
      "text/html": [
       "<div>\n",
       "<style scoped>\n",
       "    .dataframe tbody tr th:only-of-type {\n",
       "        vertical-align: middle;\n",
       "    }\n",
       "\n",
       "    .dataframe tbody tr th {\n",
       "        vertical-align: top;\n",
       "    }\n",
       "\n",
       "    .dataframe thead th {\n",
       "        text-align: right;\n",
       "    }\n",
       "</style>\n",
       "<table border=\"1\" class=\"dataframe\">\n",
       "  <thead>\n",
       "    <tr style=\"text-align: right;\">\n",
       "      <th></th>\n",
       "      <th>Name</th>\n",
       "      <th>Age</th>\n",
       "      <th>Breed2</th>\n",
       "      <th>Gender</th>\n",
       "      <th>Color1</th>\n",
       "      <th>MaturitySize</th>\n",
       "      <th>FurLength</th>\n",
       "      <th>Vaccinated</th>\n",
       "      <th>Dewormed</th>\n",
       "      <th>Sterilized</th>\n",
       "      <th>Health</th>\n",
       "      <th>Quantity</th>\n",
       "      <th>Fee</th>\n",
       "      <th>State</th>\n",
       "      <th>VideoAmt</th>\n",
       "      <th>Description</th>\n",
       "      <th>PhotoAmt</th>\n",
       "      <th>Adoption</th>\n",
       "    </tr>\n",
       "  </thead>\n",
       "  <tbody>\n",
       "    <tr>\n",
       "      <th>2</th>\n",
       "      <td>yes</td>\n",
       "      <td>1</td>\n",
       "      <td>Mixed Breed</td>\n",
       "      <td>Male</td>\n",
       "      <td>Brown</td>\n",
       "      <td>Medium</td>\n",
       "      <td>Medium</td>\n",
       "      <td>Yes</td>\n",
       "      <td>Yes</td>\n",
       "      <td>No</td>\n",
       "      <td>Healthy</td>\n",
       "      <td>1</td>\n",
       "      <td>0</td>\n",
       "      <td>Selangor</td>\n",
       "      <td>0</td>\n",
       "      <td>yes</td>\n",
       "      <td>7.0</td>\n",
       "      <td>1</td>\n",
       "    </tr>\n",
       "    <tr>\n",
       "      <th>3</th>\n",
       "      <td>yes</td>\n",
       "      <td>4</td>\n",
       "      <td>Mixed Breed</td>\n",
       "      <td>Female</td>\n",
       "      <td>Black</td>\n",
       "      <td>Medium</td>\n",
       "      <td>Short</td>\n",
       "      <td>Yes</td>\n",
       "      <td>Yes</td>\n",
       "      <td>No</td>\n",
       "      <td>Healthy</td>\n",
       "      <td>1</td>\n",
       "      <td>150</td>\n",
       "      <td>Kuala Lumpur</td>\n",
       "      <td>0</td>\n",
       "      <td>yes</td>\n",
       "      <td>8.0</td>\n",
       "      <td>1</td>\n",
       "    </tr>\n",
       "    <tr>\n",
       "      <th>4</th>\n",
       "      <td>yes</td>\n",
       "      <td>1</td>\n",
       "      <td>Mixed Breed</td>\n",
       "      <td>Male</td>\n",
       "      <td>Black</td>\n",
       "      <td>Medium</td>\n",
       "      <td>Short</td>\n",
       "      <td>No</td>\n",
       "      <td>No</td>\n",
       "      <td>No</td>\n",
       "      <td>Healthy</td>\n",
       "      <td>1</td>\n",
       "      <td>0</td>\n",
       "      <td>Selangor</td>\n",
       "      <td>0</td>\n",
       "      <td>yes</td>\n",
       "      <td>3.0</td>\n",
       "      <td>1</td>\n",
       "    </tr>\n",
       "    <tr>\n",
       "      <th>7</th>\n",
       "      <td>yes</td>\n",
       "      <td>0</td>\n",
       "      <td>Mixed Breed</td>\n",
       "      <td>Female</td>\n",
       "      <td>Black</td>\n",
       "      <td>Medium</td>\n",
       "      <td>Short</td>\n",
       "      <td>No</td>\n",
       "      <td>No</td>\n",
       "      <td>No</td>\n",
       "      <td>Healthy</td>\n",
       "      <td>6</td>\n",
       "      <td>0</td>\n",
       "      <td>Selangor</td>\n",
       "      <td>0</td>\n",
       "      <td>yes</td>\n",
       "      <td>9.0</td>\n",
       "      <td>1</td>\n",
       "    </tr>\n",
       "    <tr>\n",
       "      <th>10</th>\n",
       "      <td>yes</td>\n",
       "      <td>2</td>\n",
       "      <td>Mixed Breed</td>\n",
       "      <td>Male</td>\n",
       "      <td>Black</td>\n",
       "      <td>Medium</td>\n",
       "      <td>Short</td>\n",
       "      <td>No</td>\n",
       "      <td>Yes</td>\n",
       "      <td>No</td>\n",
       "      <td>Healthy</td>\n",
       "      <td>1</td>\n",
       "      <td>0</td>\n",
       "      <td>Kuala Lumpur</td>\n",
       "      <td>0</td>\n",
       "      <td>yes</td>\n",
       "      <td>7.0</td>\n",
       "      <td>1</td>\n",
       "    </tr>\n",
       "    <tr>\n",
       "      <th>12</th>\n",
       "      <td>yes</td>\n",
       "      <td>2</td>\n",
       "      <td>Mixed Breed</td>\n",
       "      <td>Male</td>\n",
       "      <td>Brown</td>\n",
       "      <td>Medium</td>\n",
       "      <td>Long</td>\n",
       "      <td>Yes</td>\n",
       "      <td>Yes</td>\n",
       "      <td>No</td>\n",
       "      <td>Healthy</td>\n",
       "      <td>1</td>\n",
       "      <td>0</td>\n",
       "      <td>Selangor</td>\n",
       "      <td>0</td>\n",
       "      <td>yes</td>\n",
       "      <td>1.0</td>\n",
       "      <td>1</td>\n",
       "    </tr>\n",
       "    <tr>\n",
       "      <th>14</th>\n",
       "      <td>yes</td>\n",
       "      <td>3</td>\n",
       "      <td>Mixed Breed</td>\n",
       "      <td>Female</td>\n",
       "      <td>Brown</td>\n",
       "      <td>Medium</td>\n",
       "      <td>Medium</td>\n",
       "      <td>Not Sure</td>\n",
       "      <td>Not Sure</td>\n",
       "      <td>Not Sure</td>\n",
       "      <td>Healthy</td>\n",
       "      <td>1</td>\n",
       "      <td>0</td>\n",
       "      <td>Kuala Lumpur</td>\n",
       "      <td>0</td>\n",
       "      <td>yes</td>\n",
       "      <td>2.0</td>\n",
       "      <td>1</td>\n",
       "    </tr>\n",
       "    <tr>\n",
       "      <th>15</th>\n",
       "      <td>yes</td>\n",
       "      <td>78</td>\n",
       "      <td>Terrier</td>\n",
       "      <td>Male</td>\n",
       "      <td>Black</td>\n",
       "      <td>Medium</td>\n",
       "      <td>Medium</td>\n",
       "      <td>Not Sure</td>\n",
       "      <td>Not Sure</td>\n",
       "      <td>Not Sure</td>\n",
       "      <td>Healthy</td>\n",
       "      <td>1</td>\n",
       "      <td>0</td>\n",
       "      <td>Selangor</td>\n",
       "      <td>0</td>\n",
       "      <td>yes</td>\n",
       "      <td>2.0</td>\n",
       "      <td>0</td>\n",
       "    </tr>\n",
       "    <tr>\n",
       "      <th>17</th>\n",
       "      <td>yes</td>\n",
       "      <td>8</td>\n",
       "      <td>Mixed Breed</td>\n",
       "      <td>Female</td>\n",
       "      <td>Brown</td>\n",
       "      <td>Medium</td>\n",
       "      <td>Short</td>\n",
       "      <td>No</td>\n",
       "      <td>Yes</td>\n",
       "      <td>Yes</td>\n",
       "      <td>Healthy</td>\n",
       "      <td>1</td>\n",
       "      <td>10</td>\n",
       "      <td>Perak</td>\n",
       "      <td>0</td>\n",
       "      <td>yes</td>\n",
       "      <td>2.0</td>\n",
       "      <td>0</td>\n",
       "    </tr>\n",
       "    <tr>\n",
       "      <th>18</th>\n",
       "      <td>yes</td>\n",
       "      <td>2</td>\n",
       "      <td>Mixed Breed</td>\n",
       "      <td>Female</td>\n",
       "      <td>Black</td>\n",
       "      <td>Medium</td>\n",
       "      <td>Short</td>\n",
       "      <td>No</td>\n",
       "      <td>Yes</td>\n",
       "      <td>No</td>\n",
       "      <td>Healthy</td>\n",
       "      <td>1</td>\n",
       "      <td>0</td>\n",
       "      <td>Kuala Lumpur</td>\n",
       "      <td>0</td>\n",
       "      <td>yes</td>\n",
       "      <td>8.0</td>\n",
       "      <td>1</td>\n",
       "    </tr>\n",
       "  </tbody>\n",
       "</table>\n",
       "</div>"
      ],
      "text/plain": [
       "   Name  Age       Breed2  Gender Color1 MaturitySize FurLength Vaccinated  \\\n",
       "2   yes    1  Mixed Breed    Male  Brown       Medium    Medium        Yes   \n",
       "3   yes    4  Mixed Breed  Female  Black       Medium     Short        Yes   \n",
       "4   yes    1  Mixed Breed    Male  Black       Medium     Short         No   \n",
       "7   yes    0  Mixed Breed  Female  Black       Medium     Short         No   \n",
       "10  yes    2  Mixed Breed    Male  Black       Medium     Short         No   \n",
       "12  yes    2  Mixed Breed    Male  Brown       Medium      Long        Yes   \n",
       "14  yes    3  Mixed Breed  Female  Brown       Medium    Medium   Not Sure   \n",
       "15  yes   78      Terrier    Male  Black       Medium    Medium   Not Sure   \n",
       "17  yes    8  Mixed Breed  Female  Brown       Medium     Short         No   \n",
       "18  yes    2  Mixed Breed  Female  Black       Medium     Short         No   \n",
       "\n",
       "    Dewormed Sterilized   Health  Quantity  Fee         State  VideoAmt  \\\n",
       "2        Yes         No  Healthy         1    0      Selangor         0   \n",
       "3        Yes         No  Healthy         1  150  Kuala Lumpur         0   \n",
       "4         No         No  Healthy         1    0      Selangor         0   \n",
       "7         No         No  Healthy         6    0      Selangor         0   \n",
       "10       Yes         No  Healthy         1    0  Kuala Lumpur         0   \n",
       "12       Yes         No  Healthy         1    0      Selangor         0   \n",
       "14  Not Sure   Not Sure  Healthy         1    0  Kuala Lumpur         0   \n",
       "15  Not Sure   Not Sure  Healthy         1    0      Selangor         0   \n",
       "17       Yes        Yes  Healthy         1   10         Perak         0   \n",
       "18       Yes         No  Healthy         1    0  Kuala Lumpur         0   \n",
       "\n",
       "   Description  PhotoAmt  Adoption  \n",
       "2          yes       7.0         1  \n",
       "3          yes       8.0         1  \n",
       "4          yes       3.0         1  \n",
       "7          yes       9.0         1  \n",
       "10         yes       7.0         1  \n",
       "12         yes       1.0         1  \n",
       "14         yes       2.0         1  \n",
       "15         yes       2.0         0  \n",
       "17         yes       2.0         0  \n",
       "18         yes       8.0         1  "
      ]
     },
     "execution_count": 3,
     "metadata": {},
     "output_type": "execute_result"
    }
   ],
   "source": [
    "df.head(10)"
   ]
  },
  {
   "cell_type": "code",
   "execution_count": 4,
   "id": "b112672f-12b8-4403-98e3-8e3e9d19dca6",
   "metadata": {},
   "outputs": [
    {
     "data": {
      "text/plain": [
       "(10232, 18)"
      ]
     },
     "execution_count": 4,
     "metadata": {},
     "output_type": "execute_result"
    }
   ],
   "source": [
    "df.shape"
   ]
  },
  {
   "cell_type": "code",
   "execution_count": 5,
   "id": "f87d2cfa-8181-47a2-ad41-a90cd26fe2ea",
   "metadata": {},
   "outputs": [
    {
     "data": {
      "text/html": [
       "<div>\n",
       "<style scoped>\n",
       "    .dataframe tbody tr th:only-of-type {\n",
       "        vertical-align: middle;\n",
       "    }\n",
       "\n",
       "    .dataframe tbody tr th {\n",
       "        vertical-align: top;\n",
       "    }\n",
       "\n",
       "    .dataframe thead th {\n",
       "        text-align: right;\n",
       "    }\n",
       "</style>\n",
       "<table border=\"1\" class=\"dataframe\">\n",
       "  <thead>\n",
       "    <tr style=\"text-align: right;\">\n",
       "      <th></th>\n",
       "      <th>Name</th>\n",
       "      <th>Age</th>\n",
       "      <th>Breed2</th>\n",
       "      <th>Gender</th>\n",
       "      <th>Color1</th>\n",
       "      <th>MaturitySize</th>\n",
       "      <th>FurLength</th>\n",
       "      <th>Vaccinated</th>\n",
       "      <th>Dewormed</th>\n",
       "      <th>Sterilized</th>\n",
       "      <th>Health</th>\n",
       "      <th>Quantity</th>\n",
       "      <th>Fee</th>\n",
       "      <th>State</th>\n",
       "      <th>VideoAmt</th>\n",
       "      <th>Description</th>\n",
       "      <th>PhotoAmt</th>\n",
       "      <th>Adoption</th>\n",
       "    </tr>\n",
       "  </thead>\n",
       "  <tbody>\n",
       "    <tr>\n",
       "      <th>0</th>\n",
       "      <td>2</td>\n",
       "      <td>106</td>\n",
       "      <td>124</td>\n",
       "      <td>3</td>\n",
       "      <td>7</td>\n",
       "      <td>4</td>\n",
       "      <td>3</td>\n",
       "      <td>3</td>\n",
       "      <td>3</td>\n",
       "      <td>3</td>\n",
       "      <td>3</td>\n",
       "      <td>19</td>\n",
       "      <td>67</td>\n",
       "      <td>14</td>\n",
       "      <td>9</td>\n",
       "      <td>2</td>\n",
       "      <td>31</td>\n",
       "      <td>2</td>\n",
       "    </tr>\n",
       "  </tbody>\n",
       "</table>\n",
       "</div>"
      ],
      "text/plain": [
       "   Name  Age  Breed2  Gender  Color1  MaturitySize  FurLength  Vaccinated  \\\n",
       "0     2  106     124       3       7             4          3           3   \n",
       "\n",
       "   Dewormed  Sterilized  Health  Quantity  Fee  State  VideoAmt  Description  \\\n",
       "0         3           3       3        19   67     14         9            2   \n",
       "\n",
       "   PhotoAmt  Adoption  \n",
       "0        31         2  "
      ]
     },
     "execution_count": 5,
     "metadata": {},
     "output_type": "execute_result"
    }
   ],
   "source": [
    "df.nunique().to_frame().T"
   ]
  },
  {
   "cell_type": "code",
   "execution_count": 6,
   "id": "8b6b6855-a6b9-4c8f-88a9-05123fef1ed8",
   "metadata": {},
   "outputs": [
    {
     "data": {
      "text/plain": [
       "Name                                                    [yes, no]\n",
       "Breed2          [Mixed Breed, Terrier, Rottweiler, Shih Tzu, J...\n",
       "Gender                                      [Male, Female, Mixed]\n",
       "Color1          [Brown, Black, Gray, Cream, White, Golden, Yel...\n",
       "MaturitySize                  [Medium, Large, Small, Extra Large]\n",
       "FurLength                                   [Medium, Short, Long]\n",
       "Vaccinated                                    [Yes, No, Not Sure]\n",
       "Dewormed                                      [Yes, No, Not Sure]\n",
       "Sterilized                                    [No, Not Sure, Yes]\n",
       "Health                    [Healthy, Minor Injury, Serious Injury]\n",
       "State           [Selangor, Kuala Lumpur, Perak, Johor, Pulau P...\n",
       "Description                                             [yes, no]\n",
       "dtype: object"
      ]
     },
     "execution_count": 6,
     "metadata": {},
     "output_type": "execute_result"
    }
   ],
   "source": [
    "pd.Series({col: df[col].unique() for col in df[cat_cols]})"
   ]
  },
  {
   "cell_type": "code",
   "execution_count": 7,
   "id": "86fa5b9f-9f63-4ce0-9039-801758368afe",
   "metadata": {},
   "outputs": [
    {
     "data": {
      "text/plain": [
       "1    5718\n",
       "0    4514\n",
       "Name: Adoption, dtype: int64"
      ]
     },
     "execution_count": 7,
     "metadata": {},
     "output_type": "execute_result"
    }
   ],
   "source": [
    "df[label].value_counts()"
   ]
  },
  {
   "cell_type": "code",
   "execution_count": 8,
   "id": "e29707de-5757-4855-bb12-4119d4756053",
   "metadata": {},
   "outputs": [
    {
     "data": {
      "text/plain": [
       "1    0.558835\n",
       "0    0.441165\n",
       "Name: Adoption, dtype: float64"
      ]
     },
     "execution_count": 8,
     "metadata": {},
     "output_type": "execute_result"
    }
   ],
   "source": [
    "df[label].value_counts() / df.shape[0]"
   ]
  },
  {
   "cell_type": "code",
   "execution_count": 9,
   "id": "67edbe61-83d6-41e7-93c7-350d5f382c79",
   "metadata": {},
   "outputs": [],
   "source": [
    "X_train, X_test, y_train, y_test = train_test_split(df.drop(columns=label), df[label], test_size=0.3, random_state=37, stratify=df[label])"
   ]
  },
  {
   "cell_type": "markdown",
   "id": "826b7ce3-0c08-48d0-b752-e4b94023a147",
   "metadata": {},
   "source": [
    "#### Standard Scaler"
   ]
  },
  {
   "cell_type": "code",
   "execution_count": 10,
   "id": "77bb1a24-144a-4fcc-8354-264e11e35241",
   "metadata": {},
   "outputs": [],
   "source": [
    "scaler = StandardScaler()\n",
    "scaler.fit(X_train[num_cols])\n",
    "\n",
    "num_X_train = pd.DataFrame(scaler.transform(X_train[num_cols]), columns=num_cols, index=X_train.index)\n",
    "num_X_test = pd.DataFrame(scaler.transform(X_test[num_cols]), columns=num_cols, index=X_test.index)"
   ]
  },
  {
   "cell_type": "code",
   "execution_count": 11,
   "id": "4e27cee3-fdf4-4f7d-ad00-47e76d2b35e6",
   "metadata": {},
   "outputs": [],
   "source": [
    "train = pd.concat([num_X_train, X_train[cat_cols], y_train], axis=1)\n",
    "test = pd.concat([num_X_test, X_test[cat_cols], y_test], axis=1)"
   ]
  },
  {
   "cell_type": "code",
   "execution_count": 12,
   "id": "6be47ff6-414a-4bde-8bf0-440dcfeeea36",
   "metadata": {},
   "outputs": [
    {
     "name": "stdout",
     "output_type": "stream",
     "text": [
      "{1: 3.5792103948025984, 0: 4.5329113924050635}\n"
     ]
    }
   ],
   "source": [
    "weights =dict((1 / y_train.value_counts()) * (len(y_train) * 2))\n",
    "print(weights)"
   ]
  },
  {
   "cell_type": "markdown",
   "id": "64574671-77c7-40c3-b646-00eea3108dda",
   "metadata": {},
   "source": [
    "### Model with embeddings"
   ]
  },
  {
   "cell_type": "code",
   "execution_count": 13,
   "id": "70dddce1-c08f-466a-b31a-37a23baaf537",
   "metadata": {},
   "outputs": [],
   "source": [
    "cat_dims = [int(df[col].nunique()) for col in cat_cols]\n",
    "emb_dims = [min(50, (x + 1) // 2) for x in cat_dims]"
   ]
  },
  {
   "cell_type": "markdown",
   "id": "b921010d-1d8a-4660-ab1d-00a2eee47ee1",
   "metadata": {},
   "source": [
    "#### Create Dataset"
   ]
  },
  {
   "cell_type": "code",
   "execution_count": 14,
   "id": "dbb21f80-25c4-4f6e-bd57-03bb9bb357fe",
   "metadata": {},
   "outputs": [],
   "source": [
    "def df_to_dataset(df, target, shuffle=True, batch_size=128):\n",
    "    df = df.copy()\n",
    "    label = df.pop(target)\n",
    "    ds = tf.data.Dataset.from_tensor_slices((dict(df), label))\n",
    "    if shuffle:\n",
    "        ds = ds.shuffle(buffer_size=len(df))\n",
    "    ds = ds.batch(batch_size)\n",
    "    return ds"
   ]
  },
  {
   "cell_type": "markdown",
   "id": "8011e9f5-b2de-426d-93b7-3be7a2d620e4",
   "metadata": {},
   "source": [
    "#### Create input dtypes"
   ]
  },
  {
   "cell_type": "code",
   "execution_count": 15,
   "id": "426afbda-9520-4f88-9a39-f73c20beed70",
   "metadata": {},
   "outputs": [],
   "source": [
    "def get_tf_dtypes(train, target):\n",
    "    dtypes = train.dtypes.to_dict()\n",
    "    colnames = dtypes.keys()\n",
    "    return {k:tf.as_dtype(v) for k, v in dtypes.items() if k not in target}"
   ]
  },
  {
   "cell_type": "code",
   "execution_count": 16,
   "id": "cb5cc5f7-4bf0-444f-a45c-9f8d073726cf",
   "metadata": {},
   "outputs": [],
   "source": [
    "train_ds = df_to_dataset(train, label, batch_size=64)\n",
    "val_ds = df_to_dataset(test, label, batch_size=64)"
   ]
  },
  {
   "cell_type": "code",
   "execution_count": 17,
   "id": "4ea2a160-f27f-465a-82af-8fc31e23547a",
   "metadata": {},
   "outputs": [],
   "source": [
    "tf_dtypes = get_tf_dtypes(train, label)"
   ]
  },
  {
   "cell_type": "markdown",
   "id": "0c54f615-8586-465b-be37-b13ca3492d2f",
   "metadata": {},
   "source": [
    "#### Build DenseFeatures layer"
   ]
  },
  {
   "cell_type": "code",
   "execution_count": 18,
   "id": "0ae68d16-ca09-40af-adc0-046780242f9f",
   "metadata": {},
   "outputs": [
    {
     "name": "stdout",
     "output_type": "stream",
     "text": [
      "Age\n",
      "Quantity\n",
      "Fee\n",
      "VideoAmt\n",
      "PhotoAmt\n"
     ]
    }
   ],
   "source": [
    "feature_columns = []\n",
    "for col in num_cols:\n",
    "    print(col)\n",
    "    feature_columns.append(feature_column.numeric_column(col))"
   ]
  },
  {
   "cell_type": "code",
   "execution_count": 19,
   "id": "a196500f-0795-4182-ae88-84f09a9369e3",
   "metadata": {},
   "outputs": [
    {
     "name": "stdout",
     "output_type": "stream",
     "text": [
      "1 - Name\n",
      "50 - Breed2\n",
      "2 - Gender\n",
      "4 - Color1\n",
      "2 - MaturitySize\n",
      "2 - FurLength\n",
      "2 - Vaccinated\n",
      "2 - Dewormed\n",
      "2 - Sterilized\n",
      "2 - Health\n",
      "7 - State\n",
      "1 - Description\n"
     ]
    }
   ],
   "source": [
    "for col, dim in zip(cat_cols, emb_dims):\n",
    "    print(dim,'-',col)\n",
    "    col2emb = feature_column.categorical_column_with_vocabulary_list(\n",
    "                                  col, df[col].unique())\n",
    "    emb_col = feature_column.embedding_column(col2emb, dimension=dim)\n",
    "feature_columns.append(emb_col)"
   ]
  },
  {
   "cell_type": "code",
   "execution_count": 20,
   "id": "d2f8cc45-8e73-4ee1-85b8-1ffc414da97a",
   "metadata": {},
   "outputs": [],
   "source": [
    "feature_layer = tf.keras.layers.DenseFeatures(feature_columns, name='emb')"
   ]
  },
  {
   "cell_type": "markdown",
   "id": "4cd8b11c-81d5-43b4-8629-ccb14f3f27fa",
   "metadata": {},
   "source": [
    "#### Create model using Keras functional API"
   ]
  },
  {
   "cell_type": "code",
   "execution_count": 21,
   "id": "622e3ac7-b967-41e1-9c9e-3cd08b53e235",
   "metadata": {},
   "outputs": [],
   "source": [
    "def emb_model(input_types, feature_column):\n",
    "\n",
    "    feature_inputs = {}\n",
    "    for col, dtype in input_types.items():\n",
    "        feature_inputs[col] = tf.keras.Input((1,), dtype=dtype, name=col)\n",
    "    \n",
    "    f_col = feature_column(feature_inputs)\n",
    "    x = tf.keras.layers.Dense(64, name='fc1', activation='relu')(f_col)\n",
    "    x = tf.keras.layers.Dropout(0.5, name='drop1')(x)\n",
    "    x = tf.keras.layers.Dense(64, name='fc2', activation='relu')(x)\n",
    "    x = tf.keras.layers.Dropout(0.8, name='drop2')(x)\n",
    "    x = tf.keras.layers.Dense(1, name='pred', activation='sigmoid')(x)\n",
    "\n",
    "    inputs = list(feature_inputs.values())\n",
    "    model = tf.keras.Model(inputs=inputs, outputs=x, name='mlp_w_embeddings')\n",
    "    return model"
   ]
  },
  {
   "cell_type": "code",
   "execution_count": 22,
   "id": "788ade80-8ead-41ff-8266-81f19daa2e91",
   "metadata": {},
   "outputs": [],
   "source": [
    "model = emb_model(tf_dtypes, feature_layer)"
   ]
  },
  {
   "cell_type": "code",
   "execution_count": 23,
   "id": "74b94053-251e-4a99-a431-8598c93b68ef",
   "metadata": {},
   "outputs": [],
   "source": [
    "model.compile(optimizer='adam',\n",
    "              loss='binary_crossentropy',\n",
    "              metrics=['accuracy'])\n",
    "\n",
    "results = model.fit(train_ds, validation_data=val_ds, epochs=100, verbose=0)"
   ]
  },
  {
   "cell_type": "code",
   "execution_count": 24,
   "id": "9674fb74-a4b2-4aff-ac51-696cf1382d3b",
   "metadata": {},
   "outputs": [],
   "source": [
    "def results_to_df(results):\n",
    "    hist = pd.DataFrame(results.history)\n",
    "    hist['epoch'] = hist.index + 1\n",
    "    return hist"
   ]
  },
  {
   "cell_type": "code",
   "execution_count": 25,
   "id": "76529ec2-a8c2-4a48-a39d-98a82a084c08",
   "metadata": {},
   "outputs": [],
   "source": [
    "hist = results_to_df(results)"
   ]
  },
  {
   "cell_type": "code",
   "execution_count": 26,
   "id": "168c4b75-2b12-4619-9825-d5a03d2b6bfc",
   "metadata": {},
   "outputs": [],
   "source": [
    "def plot_learning_curves(hist, figsize=(20, 5), metrics=('accuracy', 'val_accuracy')):\n",
    "    \n",
    "    metric, val_metric=metrics\n",
    "    fig, ax = plt.subplots(1, 2, figsize=figsize,\n",
    "                           gridspec_kw=dict(width_ratios=[4, 5]))\n",
    "\n",
    "    sns.lineplot(data=hist, x='epoch', y=metric, ax=ax[0], label=metric)\n",
    "    sns.lineplot(data=hist, x='epoch', y=val_metric, ax=ax[0], label=val_metric)\n",
    "    for ypos in ax[0].get_yticks():\n",
    "        ax[0].axhline(ypos, color='black', alpha=0.1)\n",
    "    ax[0].set_title('Training Epochs')\n",
    "\n",
    "    zoom = hist.iloc[(hist.shape[0] // 3):hist.shape[0], :]\n",
    "    sns.lineplot(data=zoom, x='epoch', y=metric, ax=ax[1], label=metric)\n",
    "    sns.lineplot(data=zoom, x='epoch', y=val_metric, ax=ax[1], label=val_metric)\n",
    "    for ypos in ax[1].get_yticks():\n",
    "        ax[1].axhline(ypos, color='black', alpha=0.1)\n",
    "    ax[1].set_title('Training Epochs - Zoomed')\n",
    "    ax[1].get_legend().remove()\n",
    "\n",
    "    sns.despine(offset=10)\n",
    "    plt.show()"
   ]
  },
  {
   "cell_type": "code",
   "execution_count": 27,
   "id": "c5ef151b-a99e-4335-bd99-3168b4594108",
   "metadata": {},
   "outputs": [
    {
     "data": {
      "image/png": "[encoded data removed]",
      "text/plain": [
       "<Figure size 1440x360 with 2 Axes>"
      ]
     },
     "metadata": {
      "needs_background": "light"
     },
     "output_type": "display_data"
    }
   ],
   "source": [
    "plot_learning_curves(hist, metrics=('accuracy', 'val_accuracy'))"
   ]
  },
  {
   "cell_type": "code",
   "execution_count": 28,
   "id": "34b65f82-d38d-4c99-8242-0dbbc6e3eee2",
   "metadata": {},
   "outputs": [
    {
     "name": "stdout",
     "output_type": "stream",
     "text": [
      "Model: \"mlp_w_embeddings\"\n",
      "__________________________________________________________________________________________________\n",
      "Layer (type)                    Output Shape         Param #     Connected to                     \n",
      "==================================================================================================\n",
      "Age (InputLayer)                [(None, 1)]          0                                            \n",
      "__________________________________________________________________________________________________\n",
      "Breed2 (InputLayer)             [(None, 1)]          0                                            \n",
      "__________________________________________________________________________________________________\n",
      "Color1 (InputLayer)             [(None, 1)]          0                                            \n",
      "__________________________________________________________________________________________________\n",
      "Description (InputLayer)        [(None, 1)]          0                                            \n",
      "__________________________________________________________________________________________________\n",
      "Dewormed (InputLayer)           [(None, 1)]          0                                            \n",
      "__________________________________________________________________________________________________\n",
      "Fee (InputLayer)                [(None, 1)]          0                                            \n",
      "__________________________________________________________________________________________________\n",
      "FurLength (InputLayer)          [(None, 1)]          0                                            \n",
      "__________________________________________________________________________________________________\n",
      "Gender (InputLayer)             [(None, 1)]          0                                            \n",
      "__________________________________________________________________________________________________\n",
      "Health (InputLayer)             [(None, 1)]          0                                            \n",
      "__________________________________________________________________________________________________\n",
      "MaturitySize (InputLayer)       [(None, 1)]          0                                            \n",
      "__________________________________________________________________________________________________\n",
      "Name (InputLayer)               [(None, 1)]          0                                            \n",
      "__________________________________________________________________________________________________\n",
      "PhotoAmt (InputLayer)           [(None, 1)]          0                                            \n",
      "__________________________________________________________________________________________________\n",
      "Quantity (InputLayer)           [(None, 1)]          0                                            \n",
      "__________________________________________________________________________________________________\n",
      "State (InputLayer)              [(None, 1)]          0                                            \n",
      "__________________________________________________________________________________________________\n",
      "Sterilized (InputLayer)         [(None, 1)]          0                                            \n",
      "__________________________________________________________________________________________________\n",
      "Vaccinated (InputLayer)         [(None, 1)]          0                                            \n",
      "__________________________________________________________________________________________________\n",
      "VideoAmt (InputLayer)           [(None, 1)]          0                                            \n",
      "__________________________________________________________________________________________________\n",
      "emb (DenseFeatures)             (None, 6)            2           Age[0][0]                        \n",
      "                                                                 Breed2[0][0]                     \n",
      "                                                                 Color1[0][0]                     \n",
      "                                                                 Description[0][0]                \n",
      "                                                                 Dewormed[0][0]                   \n",
      "                                                                 Fee[0][0]                        \n",
      "                                                                 FurLength[0][0]                  \n",
      "                                                                 Gender[0][0]                     \n",
      "                                                                 Health[0][0]                     \n",
      "                                                                 MaturitySize[0][0]               \n",
      "                                                                 Name[0][0]                       \n",
      "                                                                 PhotoAmt[0][0]                   \n",
      "                                                                 Quantity[0][0]                   \n",
      "                                                                 State[0][0]                      \n",
      "                                                                 Sterilized[0][0]                 \n",
      "                                                                 Vaccinated[0][0]                 \n",
      "                                                                 VideoAmt[0][0]                   \n",
      "__________________________________________________________________________________________________\n",
      "fc1 (Dense)                     (None, 64)           448         emb[0][0]                        \n",
      "__________________________________________________________________________________________________\n",
      "drop1 (Dropout)                 (None, 64)           0           fc1[0][0]                        \n",
      "__________________________________________________________________________________________________\n",
      "fc2 (Dense)                     (None, 64)           4160        drop1[0][0]                      \n",
      "__________________________________________________________________________________________________\n",
      "drop2 (Dropout)                 (None, 64)           0           fc2[0][0]                        \n",
      "__________________________________________________________________________________________________\n",
      "pred (Dense)                    (None, 1)            65          drop2[0][0]                      \n",
      "==================================================================================================\n",
      "Total params: 4,675\n",
      "Trainable params: 4,675\n",
      "Non-trainable params: 0\n",
      "__________________________________________________________________________________________________\n"
     ]
    }
   ],
   "source": [
    "model.summary()"
   ]
  },
  {
   "cell_type": "markdown",
   "id": "acf2505f-8a62-4c5a-9ec3-cd9562e045cf",
   "metadata": {},
   "source": [
    "- It seems that by using DenseFeatures we cannot retrieve the weights of each embedding."
   ]
  },
  {
   "cell_type": "code",
   "execution_count": 29,
   "id": "2ed6ac5f-cea1-4b03-85f2-2246932900f2",
   "metadata": {},
   "outputs": [
    {
     "data": {
      "image/png": "[encoded data removed]",
      "text/plain": [
       "<IPython.core.display.Image object>"
      ]
     },
     "execution_count": 29,
     "metadata": {},
     "output_type": "execute_result"
    }
   ],
   "source": [
    "tf.keras.utils.plot_model(model, expand_nested=True, to_file='feature_columns.png')"
   ]
  },
  {
   "cell_type": "code",
   "execution_count": 30,
   "id": "638ac78a-63c6-4e8d-83f2-f9af9ad10ea1",
   "metadata": {},
   "outputs": [],
   "source": [
    "pred_result = X_test.copy(deep=True)\n",
    "pred_result['real'] = y_test\n",
    "pred_result['pred'] = np.round(model.predict(val_ds)).astype(int)"
   ]
  },
  {
   "cell_type": "code",
   "execution_count": 31,
   "id": "3029ce6b-3f0a-488e-accc-649278b2126d",
   "metadata": {},
   "outputs": [
    {
     "data": {
      "text/html": [
       "<div>\n",
       "<style scoped>\n",
       "    .dataframe tbody tr th:only-of-type {\n",
       "        vertical-align: middle;\n",
       "    }\n",
       "\n",
       "    .dataframe tbody tr th {\n",
       "        vertical-align: top;\n",
       "    }\n",
       "\n",
       "    .dataframe thead th {\n",
       "        text-align: right;\n",
       "    }\n",
       "</style>\n",
       "<table border=\"1\" class=\"dataframe\">\n",
       "  <thead>\n",
       "    <tr style=\"text-align: right;\">\n",
       "      <th></th>\n",
       "      <th>Name</th>\n",
       "      <th>Age</th>\n",
       "      <th>Breed2</th>\n",
       "      <th>Gender</th>\n",
       "      <th>Color1</th>\n",
       "      <th>MaturitySize</th>\n",
       "      <th>FurLength</th>\n",
       "      <th>Vaccinated</th>\n",
       "      <th>Dewormed</th>\n",
       "      <th>Sterilized</th>\n",
       "      <th>Health</th>\n",
       "      <th>Quantity</th>\n",
       "      <th>Fee</th>\n",
       "      <th>State</th>\n",
       "      <th>VideoAmt</th>\n",
       "      <th>Description</th>\n",
       "      <th>PhotoAmt</th>\n",
       "      <th>real</th>\n",
       "      <th>pred</th>\n",
       "    </tr>\n",
       "  </thead>\n",
       "  <tbody>\n",
       "    <tr>\n",
       "      <th>13022</th>\n",
       "      <td>yes</td>\n",
       "      <td>6</td>\n",
       "      <td>German Shepherd Dog</td>\n",
       "      <td>Male</td>\n",
       "      <td>Black</td>\n",
       "      <td>Medium</td>\n",
       "      <td>Short</td>\n",
       "      <td>Yes</td>\n",
       "      <td>Yes</td>\n",
       "      <td>No</td>\n",
       "      <td>Healthy</td>\n",
       "      <td>1</td>\n",
       "      <td>0</td>\n",
       "      <td>Selangor</td>\n",
       "      <td>0</td>\n",
       "      <td>yes</td>\n",
       "      <td>1.0</td>\n",
       "      <td>1</td>\n",
       "      <td>1</td>\n",
       "    </tr>\n",
       "    <tr>\n",
       "      <th>804</th>\n",
       "      <td>yes</td>\n",
       "      <td>1</td>\n",
       "      <td>Mixed Breed</td>\n",
       "      <td>Female</td>\n",
       "      <td>Brown</td>\n",
       "      <td>Medium</td>\n",
       "      <td>Short</td>\n",
       "      <td>No</td>\n",
       "      <td>No</td>\n",
       "      <td>No</td>\n",
       "      <td>Healthy</td>\n",
       "      <td>2</td>\n",
       "      <td>0</td>\n",
       "      <td>Selangor</td>\n",
       "      <td>0</td>\n",
       "      <td>yes</td>\n",
       "      <td>3.0</td>\n",
       "      <td>0</td>\n",
       "      <td>1</td>\n",
       "    </tr>\n",
       "    <tr>\n",
       "      <th>8532</th>\n",
       "      <td>yes</td>\n",
       "      <td>2</td>\n",
       "      <td>Mixed Breed</td>\n",
       "      <td>Female</td>\n",
       "      <td>Brown</td>\n",
       "      <td>Medium</td>\n",
       "      <td>Short</td>\n",
       "      <td>Yes</td>\n",
       "      <td>Yes</td>\n",
       "      <td>No</td>\n",
       "      <td>Healthy</td>\n",
       "      <td>1</td>\n",
       "      <td>0</td>\n",
       "      <td>Selangor</td>\n",
       "      <td>0</td>\n",
       "      <td>yes</td>\n",
       "      <td>2.0</td>\n",
       "      <td>1</td>\n",
       "      <td>1</td>\n",
       "    </tr>\n",
       "    <tr>\n",
       "      <th>2998</th>\n",
       "      <td>no</td>\n",
       "      <td>2</td>\n",
       "      <td>Mixed Breed</td>\n",
       "      <td>Female</td>\n",
       "      <td>Black</td>\n",
       "      <td>Medium</td>\n",
       "      <td>Medium</td>\n",
       "      <td>No</td>\n",
       "      <td>No</td>\n",
       "      <td>No</td>\n",
       "      <td>Healthy</td>\n",
       "      <td>1</td>\n",
       "      <td>0</td>\n",
       "      <td>Kuala Lumpur</td>\n",
       "      <td>0</td>\n",
       "      <td>yes</td>\n",
       "      <td>2.0</td>\n",
       "      <td>1</td>\n",
       "      <td>1</td>\n",
       "    </tr>\n",
       "    <tr>\n",
       "      <th>11057</th>\n",
       "      <td>yes</td>\n",
       "      <td>3</td>\n",
       "      <td>Mixed Breed</td>\n",
       "      <td>Mixed</td>\n",
       "      <td>Black</td>\n",
       "      <td>Medium</td>\n",
       "      <td>Short</td>\n",
       "      <td>No</td>\n",
       "      <td>No</td>\n",
       "      <td>No</td>\n",
       "      <td>Healthy</td>\n",
       "      <td>3</td>\n",
       "      <td>0</td>\n",
       "      <td>Selangor</td>\n",
       "      <td>0</td>\n",
       "      <td>yes</td>\n",
       "      <td>3.0</td>\n",
       "      <td>0</td>\n",
       "      <td>1</td>\n",
       "    </tr>\n",
       "  </tbody>\n",
       "</table>\n",
       "</div>"
      ],
      "text/plain": [
       "      Name  Age               Breed2  Gender Color1 MaturitySize FurLength  \\\n",
       "13022  yes    6  German Shepherd Dog    Male  Black       Medium     Short   \n",
       "804    yes    1          Mixed Breed  Female  Brown       Medium     Short   \n",
       "8532   yes    2          Mixed Breed  Female  Brown       Medium     Short   \n",
       "2998    no    2          Mixed Breed  Female  Black       Medium    Medium   \n",
       "11057  yes    3          Mixed Breed   Mixed  Black       Medium     Short   \n",
       "\n",
       "      Vaccinated Dewormed Sterilized   Health  Quantity  Fee         State  \\\n",
       "13022        Yes      Yes         No  Healthy         1    0      Selangor   \n",
       "804           No       No         No  Healthy         2    0      Selangor   \n",
       "8532         Yes      Yes         No  Healthy         1    0      Selangor   \n",
       "2998          No       No         No  Healthy         1    0  Kuala Lumpur   \n",
       "11057         No       No         No  Healthy         3    0      Selangor   \n",
       "\n",
       "       VideoAmt Description  PhotoAmt  real  pred  \n",
       "13022         0         yes       1.0     1     1  \n",
       "804           0         yes       3.0     0     1  \n",
       "8532          0         yes       2.0     1     1  \n",
       "2998          0         yes       2.0     1     1  \n",
       "11057         0         yes       3.0     0     1  "
      ]
     },
     "execution_count": 31,
     "metadata": {},
     "output_type": "execute_result"
    }
   ],
   "source": [
    "pred_result.head()"
   ]
  },
  {
   "cell_type": "code",
   "execution_count": 32,
   "id": "013c5861-0b62-4b71-8c5c-f300faa21bba",
   "metadata": {},
   "outputs": [
    {
     "name": "stdout",
     "output_type": "stream",
     "text": [
      "48/48 [==============================] - 0s 4ms/step - loss: 0.6569 - accuracy: 0.6166\n"
     ]
    },
    {
     "data": {
      "text/plain": [
       "[0.6568679809570312, 0.6166123747825623]"
      ]
     },
     "execution_count": 32,
     "metadata": {},
     "output_type": "execute_result"
    }
   ],
   "source": [
    "model.evaluate(val_ds)"
   ]
  }
 ],
 "metadata": {
  "kernelspec": {
   "display_name": "Python 3 (ipykernel)",
   "language": "python",
   "name": "python3"
  },
  "language_info": {
   "codemirror_mode": {
    "name": "ipython",
    "version": 3
   },
   "file_extension": ".py",
   "mimetype": "text/x-python",
   "name": "python",
   "nbconvert_exporter": "python",
   "pygments_lexer": "ipython3",
   "version": "3.8.11"
  }
 },
 "nbformat": 4,
 "nbformat_minor": 5
}
