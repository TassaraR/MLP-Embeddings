{
 "cells": [
  {
   "cell_type": "code",
   "execution_count": null,
   "id": "50aec331-ae1b-4ca2-a458-29b1464374a2",
   "metadata": {},
   "outputs": [],
   "source": [
    "import pandas as pd\n",
    "import numpy as np\n",
    "from sklearn.preprocessing import LabelEncoder, StandardScaler, OneHotEncoder\n",
    "from sklearn.model_selection import train_test_split\n",
    "from sklearn.decomposition import PCA\n",
    "import tensorflow as tf\n",
    "import matplotlib.pyplot as plt\n",
    "import seaborn as sns"
   ]
  },
  {
   "cell_type": "markdown",
   "id": "9a270429-ef16-48f7-ae9b-9a91f5c8aa51",
   "metadata": {},
   "source": [
    "___"
   ]
  },
  {
   "cell_type": "markdown",
   "id": "0de274c5-70ac-4dbe-becd-c1ac5409ca1f",
   "metadata": {},
   "source": [
    "### Load dataset"
   ]
  },
  {
   "cell_type": "code",
   "execution_count": 5,
   "id": "632b2f5e-8c96-4822-a2f0-35e3dd11674b",
   "metadata": {},
   "outputs": [],
   "source": [
    "df = pd.read_csv('audi.csv')\n",
    "ohe_df = df.copy(deep=True)\n",
    "cat_cols = ['model', 'transmission', 'fuelType']\n",
    "num_cols = ['year', 'mileage', 'tax', 'mpg', 'engineSize']\n",
    "label = 'price'"
   ]
  },
  {
   "cell_type": "code",
   "execution_count": 6,
   "id": "2a6ebd8e-6e63-442f-a46f-52cfc0d9e69f",
   "metadata": {},
   "outputs": [
    {
     "data": {
      "text/plain": [
       "(10668, 9)"
      ]
     },
     "execution_count": 6,
     "metadata": {},
     "output_type": "execute_result"
    }
   ],
   "source": [
    "df.shape"
   ]
  },
  {
   "cell_type": "code",
   "execution_count": 7,
   "id": "6dae3d8e-791c-46c3-8069-c5e6f125d988",
   "metadata": {},
   "outputs": [
    {
     "data": {
      "text/html": [
       "<div>\n",
       "<style scoped>\n",
       "    .dataframe tbody tr th:only-of-type {\n",
       "        vertical-align: middle;\n",
       "    }\n",
       "\n",
       "    .dataframe tbody tr th {\n",
       "        vertical-align: top;\n",
       "    }\n",
       "\n",
       "    .dataframe thead th {\n",
       "        text-align: right;\n",
       "    }\n",
       "</style>\n",
       "<table border=\"1\" class=\"dataframe\">\n",
       "  <thead>\n",
       "    <tr style=\"text-align: right;\">\n",
       "      <th></th>\n",
       "      <th>model</th>\n",
       "      <th>year</th>\n",
       "      <th>price</th>\n",
       "      <th>transmission</th>\n",
       "      <th>mileage</th>\n",
       "      <th>fuelType</th>\n",
       "      <th>tax</th>\n",
       "      <th>mpg</th>\n",
       "      <th>engineSize</th>\n",
       "    </tr>\n",
       "  </thead>\n",
       "  <tbody>\n",
       "    <tr>\n",
       "      <th>0</th>\n",
       "      <td>A1</td>\n",
       "      <td>2017</td>\n",
       "      <td>12500</td>\n",
       "      <td>Manual</td>\n",
       "      <td>15735</td>\n",
       "      <td>Petrol</td>\n",
       "      <td>150</td>\n",
       "      <td>55.4</td>\n",
       "      <td>1.4</td>\n",
       "    </tr>\n",
       "    <tr>\n",
       "      <th>1</th>\n",
       "      <td>A6</td>\n",
       "      <td>2016</td>\n",
       "      <td>16500</td>\n",
       "      <td>Automatic</td>\n",
       "      <td>36203</td>\n",
       "      <td>Diesel</td>\n",
       "      <td>20</td>\n",
       "      <td>64.2</td>\n",
       "      <td>2.0</td>\n",
       "    </tr>\n",
       "    <tr>\n",
       "      <th>2</th>\n",
       "      <td>A1</td>\n",
       "      <td>2016</td>\n",
       "      <td>11000</td>\n",
       "      <td>Manual</td>\n",
       "      <td>29946</td>\n",
       "      <td>Petrol</td>\n",
       "      <td>30</td>\n",
       "      <td>55.4</td>\n",
       "      <td>1.4</td>\n",
       "    </tr>\n",
       "    <tr>\n",
       "      <th>3</th>\n",
       "      <td>A4</td>\n",
       "      <td>2017</td>\n",
       "      <td>16800</td>\n",
       "      <td>Automatic</td>\n",
       "      <td>25952</td>\n",
       "      <td>Diesel</td>\n",
       "      <td>145</td>\n",
       "      <td>67.3</td>\n",
       "      <td>2.0</td>\n",
       "    </tr>\n",
       "    <tr>\n",
       "      <th>4</th>\n",
       "      <td>A3</td>\n",
       "      <td>2019</td>\n",
       "      <td>17300</td>\n",
       "      <td>Manual</td>\n",
       "      <td>1998</td>\n",
       "      <td>Petrol</td>\n",
       "      <td>145</td>\n",
       "      <td>49.6</td>\n",
       "      <td>1.0</td>\n",
       "    </tr>\n",
       "    <tr>\n",
       "      <th>5</th>\n",
       "      <td>A1</td>\n",
       "      <td>2016</td>\n",
       "      <td>13900</td>\n",
       "      <td>Automatic</td>\n",
       "      <td>32260</td>\n",
       "      <td>Petrol</td>\n",
       "      <td>30</td>\n",
       "      <td>58.9</td>\n",
       "      <td>1.4</td>\n",
       "    </tr>\n",
       "    <tr>\n",
       "      <th>6</th>\n",
       "      <td>A6</td>\n",
       "      <td>2016</td>\n",
       "      <td>13250</td>\n",
       "      <td>Automatic</td>\n",
       "      <td>76788</td>\n",
       "      <td>Diesel</td>\n",
       "      <td>30</td>\n",
       "      <td>61.4</td>\n",
       "      <td>2.0</td>\n",
       "    </tr>\n",
       "    <tr>\n",
       "      <th>7</th>\n",
       "      <td>A4</td>\n",
       "      <td>2016</td>\n",
       "      <td>11750</td>\n",
       "      <td>Manual</td>\n",
       "      <td>75185</td>\n",
       "      <td>Diesel</td>\n",
       "      <td>20</td>\n",
       "      <td>70.6</td>\n",
       "      <td>2.0</td>\n",
       "    </tr>\n",
       "    <tr>\n",
       "      <th>8</th>\n",
       "      <td>A3</td>\n",
       "      <td>2015</td>\n",
       "      <td>10200</td>\n",
       "      <td>Manual</td>\n",
       "      <td>46112</td>\n",
       "      <td>Petrol</td>\n",
       "      <td>20</td>\n",
       "      <td>60.1</td>\n",
       "      <td>1.4</td>\n",
       "    </tr>\n",
       "    <tr>\n",
       "      <th>9</th>\n",
       "      <td>A1</td>\n",
       "      <td>2016</td>\n",
       "      <td>12000</td>\n",
       "      <td>Manual</td>\n",
       "      <td>22451</td>\n",
       "      <td>Petrol</td>\n",
       "      <td>30</td>\n",
       "      <td>55.4</td>\n",
       "      <td>1.4</td>\n",
       "    </tr>\n",
       "  </tbody>\n",
       "</table>\n",
       "</div>"
      ],
      "text/plain": [
       "  model  year  price transmission  mileage fuelType  tax   mpg  engineSize\n",
       "0    A1  2017  12500       Manual    15735   Petrol  150  55.4         1.4\n",
       "1    A6  2016  16500    Automatic    36203   Diesel   20  64.2         2.0\n",
       "2    A1  2016  11000       Manual    29946   Petrol   30  55.4         1.4\n",
       "3    A4  2017  16800    Automatic    25952   Diesel  145  67.3         2.0\n",
       "4    A3  2019  17300       Manual     1998   Petrol  145  49.6         1.0\n",
       "5    A1  2016  13900    Automatic    32260   Petrol   30  58.9         1.4\n",
       "6    A6  2016  13250    Automatic    76788   Diesel   30  61.4         2.0\n",
       "7    A4  2016  11750       Manual    75185   Diesel   20  70.6         2.0\n",
       "8    A3  2015  10200       Manual    46112   Petrol   20  60.1         1.4\n",
       "9    A1  2016  12000       Manual    22451   Petrol   30  55.4         1.4"
      ]
     },
     "execution_count": 7,
     "metadata": {},
     "output_type": "execute_result"
    }
   ],
   "source": [
    "df.head(10)"
   ]
  },
  {
   "cell_type": "code",
   "execution_count": 5,
   "id": "6e5a585b-dfcc-4f31-a6c6-2cb1e8c751db",
   "metadata": {},
   "outputs": [
    {
     "data": {
      "text/html": [
       "<div>\n",
       "<style scoped>\n",
       "    .dataframe tbody tr th:only-of-type {\n",
       "        vertical-align: middle;\n",
       "    }\n",
       "\n",
       "    .dataframe tbody tr th {\n",
       "        vertical-align: top;\n",
       "    }\n",
       "\n",
       "    .dataframe thead th {\n",
       "        text-align: right;\n",
       "    }\n",
       "</style>\n",
       "<table border=\"1\" class=\"dataframe\">\n",
       "  <thead>\n",
       "    <tr style=\"text-align: right;\">\n",
       "      <th></th>\n",
       "      <th>year</th>\n",
       "      <th>price</th>\n",
       "      <th>mileage</th>\n",
       "      <th>tax</th>\n",
       "      <th>mpg</th>\n",
       "      <th>engineSize</th>\n",
       "    </tr>\n",
       "  </thead>\n",
       "  <tbody>\n",
       "    <tr>\n",
       "      <th>count</th>\n",
       "      <td>10668.000000</td>\n",
       "      <td>10668.000000</td>\n",
       "      <td>10668.000000</td>\n",
       "      <td>10668.000000</td>\n",
       "      <td>10668.000000</td>\n",
       "      <td>10668.000000</td>\n",
       "    </tr>\n",
       "    <tr>\n",
       "      <th>mean</th>\n",
       "      <td>2017.100675</td>\n",
       "      <td>22896.685039</td>\n",
       "      <td>24827.244001</td>\n",
       "      <td>126.011436</td>\n",
       "      <td>50.770022</td>\n",
       "      <td>1.930709</td>\n",
       "    </tr>\n",
       "    <tr>\n",
       "      <th>std</th>\n",
       "      <td>2.167494</td>\n",
       "      <td>11714.841888</td>\n",
       "      <td>23505.257205</td>\n",
       "      <td>67.170294</td>\n",
       "      <td>12.949782</td>\n",
       "      <td>0.602957</td>\n",
       "    </tr>\n",
       "    <tr>\n",
       "      <th>min</th>\n",
       "      <td>1997.000000</td>\n",
       "      <td>1490.000000</td>\n",
       "      <td>1.000000</td>\n",
       "      <td>0.000000</td>\n",
       "      <td>18.900000</td>\n",
       "      <td>0.000000</td>\n",
       "    </tr>\n",
       "    <tr>\n",
       "      <th>25%</th>\n",
       "      <td>2016.000000</td>\n",
       "      <td>15130.750000</td>\n",
       "      <td>5968.750000</td>\n",
       "      <td>125.000000</td>\n",
       "      <td>40.900000</td>\n",
       "      <td>1.500000</td>\n",
       "    </tr>\n",
       "    <tr>\n",
       "      <th>50%</th>\n",
       "      <td>2017.000000</td>\n",
       "      <td>20200.000000</td>\n",
       "      <td>19000.000000</td>\n",
       "      <td>145.000000</td>\n",
       "      <td>49.600000</td>\n",
       "      <td>2.000000</td>\n",
       "    </tr>\n",
       "    <tr>\n",
       "      <th>75%</th>\n",
       "      <td>2019.000000</td>\n",
       "      <td>27990.000000</td>\n",
       "      <td>36464.500000</td>\n",
       "      <td>145.000000</td>\n",
       "      <td>58.900000</td>\n",
       "      <td>2.000000</td>\n",
       "    </tr>\n",
       "    <tr>\n",
       "      <th>max</th>\n",
       "      <td>2020.000000</td>\n",
       "      <td>145000.000000</td>\n",
       "      <td>323000.000000</td>\n",
       "      <td>580.000000</td>\n",
       "      <td>188.300000</td>\n",
       "      <td>6.300000</td>\n",
       "    </tr>\n",
       "  </tbody>\n",
       "</table>\n",
       "</div>"
      ],
      "text/plain": [
       "               year          price        mileage           tax           mpg  \\\n",
       "count  10668.000000   10668.000000   10668.000000  10668.000000  10668.000000   \n",
       "mean    2017.100675   22896.685039   24827.244001    126.011436     50.770022   \n",
       "std        2.167494   11714.841888   23505.257205     67.170294     12.949782   \n",
       "min     1997.000000    1490.000000       1.000000      0.000000     18.900000   \n",
       "25%     2016.000000   15130.750000    5968.750000    125.000000     40.900000   \n",
       "50%     2017.000000   20200.000000   19000.000000    145.000000     49.600000   \n",
       "75%     2019.000000   27990.000000   36464.500000    145.000000     58.900000   \n",
       "max     2020.000000  145000.000000  323000.000000    580.000000    188.300000   \n",
       "\n",
       "         engineSize  \n",
       "count  10668.000000  \n",
       "mean       1.930709  \n",
       "std        0.602957  \n",
       "min        0.000000  \n",
       "25%        1.500000  \n",
       "50%        2.000000  \n",
       "75%        2.000000  \n",
       "max        6.300000  "
      ]
     },
     "execution_count": 5,
     "metadata": {},
     "output_type": "execute_result"
    }
   ],
   "source": [
    "df.describe()"
   ]
  },
  {
   "cell_type": "code",
   "execution_count": 6,
   "id": "f87d2cfa-8181-47a2-ad41-a90cd26fe2ea",
   "metadata": {},
   "outputs": [
    {
     "data": {
      "text/html": [
       "<div>\n",
       "<style scoped>\n",
       "    .dataframe tbody tr th:only-of-type {\n",
       "        vertical-align: middle;\n",
       "    }\n",
       "\n",
       "    .dataframe tbody tr th {\n",
       "        vertical-align: top;\n",
       "    }\n",
       "\n",
       "    .dataframe thead th {\n",
       "        text-align: right;\n",
       "    }\n",
       "</style>\n",
       "<table border=\"1\" class=\"dataframe\">\n",
       "  <thead>\n",
       "    <tr style=\"text-align: right;\">\n",
       "      <th></th>\n",
       "      <th>model</th>\n",
       "      <th>year</th>\n",
       "      <th>price</th>\n",
       "      <th>transmission</th>\n",
       "      <th>mileage</th>\n",
       "      <th>fuelType</th>\n",
       "      <th>tax</th>\n",
       "      <th>mpg</th>\n",
       "      <th>engineSize</th>\n",
       "    </tr>\n",
       "  </thead>\n",
       "  <tbody>\n",
       "    <tr>\n",
       "      <th>0</th>\n",
       "      <td>26</td>\n",
       "      <td>21</td>\n",
       "      <td>3260</td>\n",
       "      <td>3</td>\n",
       "      <td>7725</td>\n",
       "      <td>3</td>\n",
       "      <td>37</td>\n",
       "      <td>104</td>\n",
       "      <td>19</td>\n",
       "    </tr>\n",
       "  </tbody>\n",
       "</table>\n",
       "</div>"
      ],
      "text/plain": [
       "   model  year  price  transmission  mileage  fuelType  tax  mpg  engineSize\n",
       "0     26    21   3260             3     7725         3   37  104          19"
      ]
     },
     "execution_count": 6,
     "metadata": {},
     "output_type": "execute_result"
    }
   ],
   "source": [
    "df.nunique().to_frame().T"
   ]
  },
  {
   "cell_type": "code",
   "execution_count": 7,
   "id": "f67a4838-fde0-40ec-a4b1-e65d773a742d",
   "metadata": {},
   "outputs": [
    {
     "data": {
      "text/plain": [
       "model           [ A1,  A6,  A4,  A3,  Q3,  Q5,  A5,  S4,  Q2, ...\n",
       "transmission                       [Manual, Automatic, Semi-Auto]\n",
       "fuelType                                 [Petrol, Diesel, Hybrid]\n",
       "dtype: object"
      ]
     },
     "execution_count": 7,
     "metadata": {},
     "output_type": "execute_result"
    }
   ],
   "source": [
    "pd.Series({col: df[col].unique() for col in df[cat_cols]})"
   ]
  },
  {
   "cell_type": "code",
   "execution_count": 8,
   "id": "9095ace4-e715-4d16-8087-e7cb1abee4f1",
   "metadata": {},
   "outputs": [
    {
     "data": {
      "image/png": "[encoded data removed]",
      "text/plain": [
       "<Figure size 1080x360 with 2 Axes>"
      ]
     },
     "metadata": {
      "needs_background": "light"
     },
     "output_type": "display_data"
    }
   ],
   "source": [
    "fig, ax = plt.subplots(1, 2, figsize=(15, 5))\n",
    "sns.histplot(df[label], kde=True, ax=ax[0], bins=50)\n",
    "ax[0].set_title(f'{label.title()} Distribution')\n",
    "sns.histplot(np.log(df[label]), kde=True, ax=ax[1], bins=50)\n",
    "ax[1].set_title(f'Log({label.title()}) Distribution')\n",
    "sns.despine(offset=10)\n",
    "plt.show()"
   ]
  },
  {
   "cell_type": "markdown",
   "id": "95328c6d-cfc7-44b5-b5f5-8d9fec31985d",
   "metadata": {},
   "source": [
    "___"
   ]
  },
  {
   "cell_type": "markdown",
   "id": "d2b24314-d25d-4bf5-9909-13ce8188be13",
   "metadata": {},
   "source": [
    "#### Label Encoder"
   ]
  },
  {
   "cell_type": "code",
   "execution_count": 9,
   "id": "133377fe-0cd2-4707-b066-04ec166b83a9",
   "metadata": {},
   "outputs": [],
   "source": [
    "lbl_enc = {}\n",
    "for col in cat_cols:\n",
    "    lbl_enc[col] = LabelEncoder()\n",
    "    lbl_enc[col].fit(df[col])\n",
    "\n",
    "for col in cat_cols:\n",
    "    df[col] = lbl_enc[col].transform(df[col])"
   ]
  },
  {
   "cell_type": "code",
   "execution_count": 10,
   "id": "67edbe61-83d6-41e7-93c7-350d5f382c79",
   "metadata": {},
   "outputs": [],
   "source": [
    "X_train, X_test, y_train, y_test = train_test_split(df.drop(columns=label), df[label], test_size=0.3, random_state=37)"
   ]
  },
  {
   "cell_type": "markdown",
   "id": "31bd5308-83c3-4aaf-b255-b8dc3dad5e3b",
   "metadata": {},
   "source": [
    "#### Standard Scaler"
   ]
  },
  {
   "cell_type": "code",
   "execution_count": 11,
   "id": "d1709327-2748-4254-9593-aab363443514",
   "metadata": {},
   "outputs": [],
   "source": [
    "scaler = StandardScaler()\n",
    "scaler.fit(X_train[num_cols])\n",
    "\n",
    "num_X_train = pd.DataFrame(scaler.transform(X_train[num_cols]), columns=num_cols, index=X_train.index)\n",
    "num_X_test = pd.DataFrame(scaler.transform(X_test[num_cols]), columns=num_cols, index=X_test.index)"
   ]
  },
  {
   "cell_type": "code",
   "execution_count": 12,
   "id": "4fe60fca-91e6-4ddd-81ac-136608b95944",
   "metadata": {},
   "outputs": [],
   "source": [
    "X_train = pd.concat([num_X_train, X_train[cat_cols]], axis=1)\n",
    "X_test = pd.concat([num_X_test, X_test[cat_cols]], axis=1)\n",
    "\n",
    "# Using log actually gave worse results\n",
    "# y_train = np.log(y_train)\n",
    "# y_test = np.log(y_test)"
   ]
  },
  {
   "cell_type": "markdown",
   "id": "df8e5e1e-2dd7-4571-9551-048c26c681b7",
   "metadata": {},
   "source": [
    "### Model with embeddings"
   ]
  },
  {
   "cell_type": "code",
   "execution_count": 13,
   "id": "70dddce1-c08f-466a-b31a-37a23baaf537",
   "metadata": {},
   "outputs": [],
   "source": [
    "cat_dims = [int(df[col].nunique()) for col in cat_cols]\n",
    "emb_size = [(x, min(50, (x + 1) // 2)) for x in cat_dims]"
   ]
  },
  {
   "cell_type": "code",
   "execution_count": 14,
   "id": "e81c6069-26f1-4fcc-9936-b045c7ad4af0",
   "metadata": {},
   "outputs": [],
   "source": [
    "def emb_model(cat_cols, num_cols, emb_size):\n",
    "    inputs = []\n",
    "    outputs = []\n",
    "    for cat, sz in zip(cat_cols, emb_size):\n",
    "        _in = tf.keras.layers.Input(shape=(1,), name=f'in_{cat}')\n",
    "        inputs.append(_in)\n",
    "        _emb = tf.keras.layers.Embedding(sz[0], sz[1], \n",
    "                                          name=f'emb_{cat}')(_in)\n",
    "\n",
    "        _emb_rshape = tf.keras.layers.Reshape(target_shape=(sz[1],),\n",
    "                                              name=f'emb_rsh_{cat}')(_emb)\n",
    "        outputs.append(_emb_rshape)\n",
    "\n",
    "\n",
    "    num_in = tf.keras.layers.Input(shape=(len(num_cols),), name='in_num')\n",
    "    inputs.append(num_in)\n",
    "    outputs.append(num_in)\n",
    "    x = tf.keras.layers.Concatenate()(outputs)\n",
    "    \n",
    "    x = tf.keras.layers.Dense(128, name='fc1', activation='relu')(x)\n",
    "    x = tf.keras.layers.Dropout(0.2)(x)\n",
    "    x = tf.keras.layers.Dense(128, name='fc2', activation='relu')(x)\n",
    "    x = tf.keras.layers.Dropout(0.2)(x)\n",
    "    x = tf.keras.layers.Dense(1, name='pred')(x)\n",
    "\n",
    "    model = tf.keras.Model(inputs=inputs, outputs=x, name='mlp_w_embeddings')\n",
    "    return model"
   ]
  },
  {
   "cell_type": "code",
   "execution_count": 15,
   "id": "ef8be825-60d9-4925-974e-9fb3b15b2793",
   "metadata": {},
   "outputs": [],
   "source": [
    "mlp_emb = emb_model(cat_cols, num_cols, emb_size)"
   ]
  },
  {
   "cell_type": "code",
   "execution_count": 16,
   "id": "e52e516f-2098-484d-9341-0ec6de50c7c7",
   "metadata": {},
   "outputs": [],
   "source": [
    "mlp_emb.compile(optimizer='adam', loss='mean_squared_error', metrics=['mae'])"
   ]
  },
  {
   "cell_type": "code",
   "execution_count": 17,
   "id": "fd52e1ed-3fd7-462d-a74b-e579500605e0",
   "metadata": {},
   "outputs": [],
   "source": [
    "def create_dataset(data, cat_cols, num_cols):\n",
    "    input_vals = {}\n",
    "    for cat in cat_cols:\n",
    "        input_vals[f\"in_{cat}\"] = data[cat]\n",
    "    input_vals[\"in_num\"] = data[num_cols]\n",
    "    return input_vals"
   ]
  },
  {
   "cell_type": "code",
   "execution_count": 18,
   "id": "1eec0851-465d-4af5-a7d9-1864604d5926",
   "metadata": {},
   "outputs": [],
   "source": [
    "train_ds = create_dataset(X_train, cat_cols, num_cols)\n",
    "test_ds = create_dataset(X_test, cat_cols, num_cols)"
   ]
  },
  {
   "cell_type": "code",
   "execution_count": 19,
   "id": "1af6bca3-caa4-46c3-b383-8906bb2ee36b",
   "metadata": {},
   "outputs": [],
   "source": [
    "results = mlp_emb.fit(train_ds, y_train, epochs=50, validation_data=(test_ds, y_test), verbose=0)"
   ]
  },
  {
   "cell_type": "code",
   "execution_count": 20,
   "id": "96ebdeae-bcdb-4b4e-8c70-13f203b357ff",
   "metadata": {},
   "outputs": [],
   "source": [
    "def results_to_df(results):\n",
    "    hist = pd.DataFrame(results.history)\n",
    "    hist['epoch'] = hist.index + 1\n",
    "    return hist"
   ]
  },
  {
   "cell_type": "code",
   "execution_count": 21,
   "id": "8d520fe1-833a-4ee6-a61d-a0010c6ee735",
   "metadata": {},
   "outputs": [],
   "source": [
    "hist = results_to_df(results)"
   ]
  },
  {
   "cell_type": "code",
   "execution_count": 22,
   "id": "f0438794-f907-4c86-893e-f371a507bf3b",
   "metadata": {},
   "outputs": [],
   "source": [
    "def plot_learning_curves(hist, figsize=(20, 5), metrics=('mae', 'val_mae')):\n",
    "    \n",
    "    metric, val_metric=metrics\n",
    "    fig, ax = plt.subplots(1, 2, figsize=figsize,\n",
    "                           gridspec_kw=dict(width_ratios=[4, 5]))\n",
    "\n",
    "    sns.lineplot(data=hist, x='epoch', y=metric, ax=ax[0], label=metric)\n",
    "    sns.lineplot(data=hist, x='epoch', y=val_metric, ax=ax[0], label=val_metric)\n",
    "    for ypos in ax[0].get_yticks():\n",
    "        ax[0].axhline(ypos, color='black', alpha=0.1)\n",
    "    ax[0].set_title('Training Epochs')\n",
    "\n",
    "    zoom = hist.iloc[(hist.shape[0] // 3):hist.shape[0], :]\n",
    "    sns.lineplot(data=zoom, x='epoch', y=metric, ax=ax[1], label=metric)\n",
    "    sns.lineplot(data=zoom, x='epoch', y=val_metric, ax=ax[1], label=val_metric)\n",
    "    for ypos in ax[1].get_yticks():\n",
    "        ax[1].axhline(ypos, color='black', alpha=0.1)\n",
    "    ax[1].set_title('Training Epochs - Zoomed')\n",
    "    ax[1].get_legend().remove()\n",
    "\n",
    "    sns.despine(offset=10)\n",
    "    plt.show()"
   ]
  },
  {
   "cell_type": "code",
   "execution_count": 23,
   "id": "5ffb0a4e-f934-4164-9ce4-d02f2b725d0a",
   "metadata": {},
   "outputs": [
    {
     "data": {
      "image/png": "[encoded data removed]",
      "text/plain": [
       "<Figure size 1440x360 with 2 Axes>"
      ]
     },
     "metadata": {
      "needs_background": "light"
     },
     "output_type": "display_data"
    }
   ],
   "source": [
    "plot_learning_curves(hist, metrics=('mae', 'val_mae'))"
   ]
  },
  {
   "cell_type": "markdown",
   "id": "f745880d-ed23-433b-bddd-8d3092edf226",
   "metadata": {},
   "source": [
    "- Se observa que el modelo se encuentra entrenado correctamente con un overfit muy pequeño.\n",
    "- Se realiza un zoom en la segunda imágen para poder obtener un mayor detalle sobre las métricas."
   ]
  },
  {
   "cell_type": "code",
   "execution_count": 24,
   "id": "a1ded7df-88d0-470d-a9ab-83f0e2643770",
   "metadata": {},
   "outputs": [
    {
     "data": {
      "image/png": "[encoded data removed]",
      "text/plain": [
       "<IPython.core.display.Image object>"
      ]
     },
     "execution_count": 24,
     "metadata": {},
     "output_type": "execute_result"
    }
   ],
   "source": [
    "tf.keras.utils.plot_model(mlp_emb, expand_nested=True, to_file='emb_regressor.png')"
   ]
  },
  {
   "cell_type": "code",
   "execution_count": 25,
   "id": "d371f887-5216-47e0-872a-8642d94e535c",
   "metadata": {},
   "outputs": [
    {
     "name": "stdout",
     "output_type": "stream",
     "text": [
      "Model: \"mlp_w_embeddings\"\n",
      "__________________________________________________________________________________________________\n",
      "Layer (type)                    Output Shape         Param #     Connected to                     \n",
      "==================================================================================================\n",
      "in_model (InputLayer)           [(None, 1)]          0                                            \n",
      "__________________________________________________________________________________________________\n",
      "in_transmission (InputLayer)    [(None, 1)]          0                                            \n",
      "__________________________________________________________________________________________________\n",
      "in_fuelType (InputLayer)        [(None, 1)]          0                                            \n",
      "__________________________________________________________________________________________________\n",
      "emb_model (Embedding)           (None, 1, 13)        338         in_model[0][0]                   \n",
      "__________________________________________________________________________________________________\n",
      "emb_transmission (Embedding)    (None, 1, 2)         6           in_transmission[0][0]            \n",
      "__________________________________________________________________________________________________\n",
      "emb_fuelType (Embedding)        (None, 1, 2)         6           in_fuelType[0][0]                \n",
      "__________________________________________________________________________________________________\n",
      "emb_rsh_model (Reshape)         (None, 13)           0           emb_model[0][0]                  \n",
      "__________________________________________________________________________________________________\n",
      "emb_rsh_transmission (Reshape)  (None, 2)            0           emb_transmission[0][0]           \n",
      "__________________________________________________________________________________________________\n",
      "emb_rsh_fuelType (Reshape)      (None, 2)            0           emb_fuelType[0][0]               \n",
      "__________________________________________________________________________________________________\n",
      "in_num (InputLayer)             [(None, 5)]          0                                            \n",
      "__________________________________________________________________________________________________\n",
      "concatenate (Concatenate)       (None, 22)           0           emb_rsh_model[0][0]              \n",
      "                                                                 emb_rsh_transmission[0][0]       \n",
      "                                                                 emb_rsh_fuelType[0][0]           \n",
      "                                                                 in_num[0][0]                     \n",
      "__________________________________________________________________________________________________\n",
      "fc1 (Dense)                     (None, 128)          2944        concatenate[0][0]                \n",
      "__________________________________________________________________________________________________\n",
      "dropout (Dropout)               (None, 128)          0           fc1[0][0]                        \n",
      "__________________________________________________________________________________________________\n",
      "fc2 (Dense)                     (None, 128)          16512       dropout[0][0]                    \n",
      "__________________________________________________________________________________________________\n",
      "dropout_1 (Dropout)             (None, 128)          0           fc2[0][0]                        \n",
      "__________________________________________________________________________________________________\n",
      "pred (Dense)                    (None, 1)            129         dropout_1[0][0]                  \n",
      "==================================================================================================\n",
      "Total params: 19,935\n",
      "Trainable params: 19,935\n",
      "Non-trainable params: 0\n",
      "__________________________________________________________________________________________________\n"
     ]
    }
   ],
   "source": [
    "mlp_emb.summary()"
   ]
  },
  {
   "cell_type": "markdown",
   "id": "bb29d078-ad3b-4040-850e-aaf65f119108",
   "metadata": {},
   "source": [
    "### Embeddings"
   ]
  },
  {
   "cell_type": "code",
   "execution_count": 26,
   "id": "cc5bb711-e204-4f3a-8365-ea7e6f639cf8",
   "metadata": {},
   "outputs": [],
   "source": [
    "emb = mlp_emb.layers[3].get_weights()[0]\n",
    "emb = pd.DataFrame(emb)\n",
    "emb.index = lbl_enc['model'].inverse_transform(emb.index)"
   ]
  },
  {
   "cell_type": "code",
   "execution_count": 27,
   "id": "548d54d0-9ff1-4c95-a58c-1a5754e50b8f",
   "metadata": {},
   "outputs": [
    {
     "data": {
      "text/html": [
       "<div>\n",
       "<style scoped>\n",
       "    .dataframe tbody tr th:only-of-type {\n",
       "        vertical-align: middle;\n",
       "    }\n",
       "\n",
       "    .dataframe tbody tr th {\n",
       "        vertical-align: top;\n",
       "    }\n",
       "\n",
       "    .dataframe thead th {\n",
       "        text-align: right;\n",
       "    }\n",
       "</style>\n",
       "<table border=\"1\" class=\"dataframe\">\n",
       "  <thead>\n",
       "    <tr style=\"text-align: right;\">\n",
       "      <th></th>\n",
       "      <th>0</th>\n",
       "      <th>1</th>\n",
       "      <th>2</th>\n",
       "      <th>3</th>\n",
       "      <th>4</th>\n",
       "      <th>5</th>\n",
       "      <th>6</th>\n",
       "      <th>7</th>\n",
       "      <th>8</th>\n",
       "      <th>9</th>\n",
       "      <th>10</th>\n",
       "      <th>11</th>\n",
       "      <th>12</th>\n",
       "    </tr>\n",
       "  </thead>\n",
       "  <tbody>\n",
       "    <tr>\n",
       "      <th>A1</th>\n",
       "      <td>0.051934</td>\n",
       "      <td>-0.141143</td>\n",
       "      <td>-0.124047</td>\n",
       "      <td>0.080205</td>\n",
       "      <td>-0.141311</td>\n",
       "      <td>0.087796</td>\n",
       "      <td>-0.059565</td>\n",
       "      <td>0.041065</td>\n",
       "      <td>0.126417</td>\n",
       "      <td>0.095381</td>\n",
       "      <td>-0.040843</td>\n",
       "      <td>-0.001488</td>\n",
       "      <td>0.127905</td>\n",
       "    </tr>\n",
       "    <tr>\n",
       "      <th>A2</th>\n",
       "      <td>0.148732</td>\n",
       "      <td>-0.188177</td>\n",
       "      <td>0.173475</td>\n",
       "      <td>0.131372</td>\n",
       "      <td>-0.172644</td>\n",
       "      <td>0.124274</td>\n",
       "      <td>-0.180639</td>\n",
       "      <td>0.179293</td>\n",
       "      <td>0.190790</td>\n",
       "      <td>0.183788</td>\n",
       "      <td>-0.115009</td>\n",
       "      <td>0.169395</td>\n",
       "      <td>0.117321</td>\n",
       "    </tr>\n",
       "    <tr>\n",
       "      <th>A3</th>\n",
       "      <td>0.158530</td>\n",
       "      <td>-0.129018</td>\n",
       "      <td>0.074663</td>\n",
       "      <td>0.127597</td>\n",
       "      <td>-0.110021</td>\n",
       "      <td>0.074138</td>\n",
       "      <td>-0.141005</td>\n",
       "      <td>0.067386</td>\n",
       "      <td>0.106955</td>\n",
       "      <td>0.152916</td>\n",
       "      <td>-0.116529</td>\n",
       "      <td>0.025921</td>\n",
       "      <td>0.137154</td>\n",
       "    </tr>\n",
       "    <tr>\n",
       "      <th>A4</th>\n",
       "      <td>0.093891</td>\n",
       "      <td>-0.172055</td>\n",
       "      <td>0.045253</td>\n",
       "      <td>0.163566</td>\n",
       "      <td>-0.199678</td>\n",
       "      <td>0.170562</td>\n",
       "      <td>-0.132348</td>\n",
       "      <td>0.086259</td>\n",
       "      <td>0.152168</td>\n",
       "      <td>0.103632</td>\n",
       "      <td>-0.127829</td>\n",
       "      <td>0.042758</td>\n",
       "      <td>0.129497</td>\n",
       "    </tr>\n",
       "    <tr>\n",
       "      <th>A5</th>\n",
       "      <td>0.181622</td>\n",
       "      <td>-0.211537</td>\n",
       "      <td>0.113676</td>\n",
       "      <td>0.178959</td>\n",
       "      <td>-0.160084</td>\n",
       "      <td>0.152300</td>\n",
       "      <td>-0.192624</td>\n",
       "      <td>0.169556</td>\n",
       "      <td>0.168534</td>\n",
       "      <td>0.152572</td>\n",
       "      <td>-0.109056</td>\n",
       "      <td>0.111200</td>\n",
       "      <td>0.161528</td>\n",
       "    </tr>\n",
       "    <tr>\n",
       "      <th>A6</th>\n",
       "      <td>0.184918</td>\n",
       "      <td>-0.187900</td>\n",
       "      <td>0.176300</td>\n",
       "      <td>0.115677</td>\n",
       "      <td>-0.179834</td>\n",
       "      <td>0.197420</td>\n",
       "      <td>-0.186001</td>\n",
       "      <td>0.222054</td>\n",
       "      <td>0.167675</td>\n",
       "      <td>0.150154</td>\n",
       "      <td>-0.249377</td>\n",
       "      <td>0.206839</td>\n",
       "      <td>0.179094</td>\n",
       "    </tr>\n",
       "    <tr>\n",
       "      <th>A7</th>\n",
       "      <td>0.228600</td>\n",
       "      <td>-0.237901</td>\n",
       "      <td>0.184940</td>\n",
       "      <td>0.191228</td>\n",
       "      <td>-0.155095</td>\n",
       "      <td>0.202624</td>\n",
       "      <td>-0.163199</td>\n",
       "      <td>0.213448</td>\n",
       "      <td>0.186558</td>\n",
       "      <td>0.113926</td>\n",
       "      <td>-0.170673</td>\n",
       "      <td>0.180437</td>\n",
       "      <td>0.130687</td>\n",
       "    </tr>\n",
       "    <tr>\n",
       "      <th>A8</th>\n",
       "      <td>0.208591</td>\n",
       "      <td>-0.239284</td>\n",
       "      <td>0.220276</td>\n",
       "      <td>0.240094</td>\n",
       "      <td>-0.250581</td>\n",
       "      <td>0.228052</td>\n",
       "      <td>-0.217441</td>\n",
       "      <td>0.272953</td>\n",
       "      <td>0.263210</td>\n",
       "      <td>0.228476</td>\n",
       "      <td>-0.194755</td>\n",
       "      <td>0.168446</td>\n",
       "      <td>0.208224</td>\n",
       "    </tr>\n",
       "    <tr>\n",
       "      <th>Q2</th>\n",
       "      <td>0.172953</td>\n",
       "      <td>-0.186696</td>\n",
       "      <td>0.024572</td>\n",
       "      <td>0.184084</td>\n",
       "      <td>-0.142126</td>\n",
       "      <td>0.170833</td>\n",
       "      <td>-0.143290</td>\n",
       "      <td>-0.002494</td>\n",
       "      <td>0.098580</td>\n",
       "      <td>0.166658</td>\n",
       "      <td>-0.085331</td>\n",
       "      <td>0.112282</td>\n",
       "      <td>0.166239</td>\n",
       "    </tr>\n",
       "    <tr>\n",
       "      <th>Q3</th>\n",
       "      <td>0.174181</td>\n",
       "      <td>-0.207554</td>\n",
       "      <td>0.165406</td>\n",
       "      <td>0.171948</td>\n",
       "      <td>-0.185803</td>\n",
       "      <td>0.145270</td>\n",
       "      <td>-0.161233</td>\n",
       "      <td>0.140091</td>\n",
       "      <td>0.149285</td>\n",
       "      <td>0.172276</td>\n",
       "      <td>-0.201841</td>\n",
       "      <td>0.179547</td>\n",
       "      <td>0.190101</td>\n",
       "    </tr>\n",
       "  </tbody>\n",
       "</table>\n",
       "</div>"
      ],
      "text/plain": [
       "           0         1         2         3         4         5         6   \\\n",
       " A1  0.051934 -0.141143 -0.124047  0.080205 -0.141311  0.087796 -0.059565   \n",
       " A2  0.148732 -0.188177  0.173475  0.131372 -0.172644  0.124274 -0.180639   \n",
       " A3  0.158530 -0.129018  0.074663  0.127597 -0.110021  0.074138 -0.141005   \n",
       " A4  0.093891 -0.172055  0.045253  0.163566 -0.199678  0.170562 -0.132348   \n",
       " A5  0.181622 -0.211537  0.113676  0.178959 -0.160084  0.152300 -0.192624   \n",
       " A6  0.184918 -0.187900  0.176300  0.115677 -0.179834  0.197420 -0.186001   \n",
       " A7  0.228600 -0.237901  0.184940  0.191228 -0.155095  0.202624 -0.163199   \n",
       " A8  0.208591 -0.239284  0.220276  0.240094 -0.250581  0.228052 -0.217441   \n",
       " Q2  0.172953 -0.186696  0.024572  0.184084 -0.142126  0.170833 -0.143290   \n",
       " Q3  0.174181 -0.207554  0.165406  0.171948 -0.185803  0.145270 -0.161233   \n",
       "\n",
       "           7         8         9         10        11        12  \n",
       " A1  0.041065  0.126417  0.095381 -0.040843 -0.001488  0.127905  \n",
       " A2  0.179293  0.190790  0.183788 -0.115009  0.169395  0.117321  \n",
       " A3  0.067386  0.106955  0.152916 -0.116529  0.025921  0.137154  \n",
       " A4  0.086259  0.152168  0.103632 -0.127829  0.042758  0.129497  \n",
       " A5  0.169556  0.168534  0.152572 -0.109056  0.111200  0.161528  \n",
       " A6  0.222054  0.167675  0.150154 -0.249377  0.206839  0.179094  \n",
       " A7  0.213448  0.186558  0.113926 -0.170673  0.180437  0.130687  \n",
       " A8  0.272953  0.263210  0.228476 -0.194755  0.168446  0.208224  \n",
       " Q2 -0.002494  0.098580  0.166658 -0.085331  0.112282  0.166239  \n",
       " Q3  0.140091  0.149285  0.172276 -0.201841  0.179547  0.190101  "
      ]
     },
     "execution_count": 27,
     "metadata": {},
     "output_type": "execute_result"
    }
   ],
   "source": [
    "emb.head(10)"
   ]
  },
  {
   "cell_type": "markdown",
   "id": "1559f2d2-3fde-4554-8214-32f8834c6251",
   "metadata": {},
   "source": [
    "Se realiza PCA para poder visualizar las relaciones entre categorías dentro de la variable y se ajusta para obtener solo 2 componentes."
   ]
  },
  {
   "cell_type": "code",
   "execution_count": 28,
   "id": "f8da7191-63ef-4413-8674-70d56820515c",
   "metadata": {},
   "outputs": [
    {
     "name": "stdout",
     "output_type": "stream",
     "text": [
      "[0.97375315 0.982357   0.986536   0.98945415 0.9920359 ]\n"
     ]
    }
   ],
   "source": [
    "pca = PCA()\n",
    "pca.fit(emb)\n",
    "print(pca.explained_variance_ratio_.cumsum()[0:5])"
   ]
  },
  {
   "cell_type": "code",
   "execution_count": 29,
   "id": "e1440809-dce0-40ee-8b9e-5a302669c3cd",
   "metadata": {},
   "outputs": [],
   "source": [
    "pca = PCA(n_components=2)\n",
    "emb2dim = pd.DataFrame(pca.fit_transform(emb), index=emb.index, columns=['PC1', 'PC2'])"
   ]
  },
  {
   "cell_type": "code",
   "execution_count": 30,
   "id": "a88c7f3a-f462-4b52-9c1b-ac3ceceaebc4",
   "metadata": {},
   "outputs": [
    {
     "data": {
      "image/png": "[encoded data removed]",
      "text/plain": [
       "<Figure size 1080x504 with 1 Axes>"
      ]
     },
     "metadata": {},
     "output_type": "display_data"
    }
   ],
   "source": [
    "fig, ax = plt.subplots(figsize=(15, 7), facecolor='white')\n",
    "sns.scatterplot(data=emb2dim, x='PC1', y='PC2', ax=ax, s=10, color='red')\n",
    "for row in range(len(emb2dim)):\n",
    "    txt = emb2dim.index[row]\n",
    "    x = emb2dim.iloc[row, 0]\n",
    "    y = emb2dim.iloc[row, 1]\n",
    "    ax.annotate(txt, (x, y), ha='center', fontsize=10, \n",
    "                xytext=(1, 3), textcoords='offset points')\n",
    "sns.despine(offset=10)\n",
    "ax.set_title('Audi Model Embedding', weight='bold')\n",
    "plt.show()"
   ]
  },
  {
   "cell_type": "code",
   "execution_count": 31,
   "id": "c61ad9ff-2dea-4349-bb5c-950c23d65b2c",
   "metadata": {},
   "outputs": [],
   "source": [
    "pred_result = X_test.copy(deep=True)\n",
    "pred_result['real'] = y_test\n",
    "pred_result['pred'] = mlp_emb.predict(test_ds)\n",
    "pred_result['residuals'] = pred_result['real'] - pred_result['pred']"
   ]
  },
  {
   "cell_type": "code",
   "execution_count": 32,
   "id": "4178e11c-2fe6-4b27-aabe-98c62b48615e",
   "metadata": {},
   "outputs": [
    {
     "data": {
      "text/html": [
       "<div>\n",
       "<style scoped>\n",
       "    .dataframe tbody tr th:only-of-type {\n",
       "        vertical-align: middle;\n",
       "    }\n",
       "\n",
       "    .dataframe tbody tr th {\n",
       "        vertical-align: top;\n",
       "    }\n",
       "\n",
       "    .dataframe thead th {\n",
       "        text-align: right;\n",
       "    }\n",
       "</style>\n",
       "<table border=\"1\" class=\"dataframe\">\n",
       "  <thead>\n",
       "    <tr style=\"text-align: right;\">\n",
       "      <th></th>\n",
       "      <th>year</th>\n",
       "      <th>mileage</th>\n",
       "      <th>tax</th>\n",
       "      <th>mpg</th>\n",
       "      <th>engineSize</th>\n",
       "      <th>model</th>\n",
       "      <th>transmission</th>\n",
       "      <th>fuelType</th>\n",
       "      <th>real</th>\n",
       "      <th>pred</th>\n",
       "      <th>residuals</th>\n",
       "    </tr>\n",
       "  </thead>\n",
       "  <tbody>\n",
       "    <tr>\n",
       "      <th>6293</th>\n",
       "      <td>-0.497785</td>\n",
       "      <td>0.672882</td>\n",
       "      <td>-0.011762</td>\n",
       "      <td>0.810474</td>\n",
       "      <td>1.765271</td>\n",
       "      <td>6</td>\n",
       "      <td>0</td>\n",
       "      <td>0</td>\n",
       "      <td>20200</td>\n",
       "      <td>21476.439453</td>\n",
       "      <td>-1276.439453</td>\n",
       "    </tr>\n",
       "    <tr>\n",
       "      <th>10006</th>\n",
       "      <td>-0.957521</td>\n",
       "      <td>2.740943</td>\n",
       "      <td>-1.416378</td>\n",
       "      <td>1.262052</td>\n",
       "      <td>0.116972</td>\n",
       "      <td>2</td>\n",
       "      <td>1</td>\n",
       "      <td>0</td>\n",
       "      <td>8500</td>\n",
       "      <td>9293.512695</td>\n",
       "      <td>-793.512695</td>\n",
       "    </tr>\n",
       "    <tr>\n",
       "      <th>5753</th>\n",
       "      <td>-0.497785</td>\n",
       "      <td>0.262612</td>\n",
       "      <td>-0.011762</td>\n",
       "      <td>0.435434</td>\n",
       "      <td>0.116972</td>\n",
       "      <td>9</td>\n",
       "      <td>1</td>\n",
       "      <td>0</td>\n",
       "      <td>15750</td>\n",
       "      <td>17019.373047</td>\n",
       "      <td>-1269.373047</td>\n",
       "    </tr>\n",
       "    <tr>\n",
       "      <th>10623</th>\n",
       "      <td>0.881422</td>\n",
       "      <td>-0.839805</td>\n",
       "      <td>0.283947</td>\n",
       "      <td>-1.432110</td>\n",
       "      <td>0.116972</td>\n",
       "      <td>9</td>\n",
       "      <td>0</td>\n",
       "      <td>2</td>\n",
       "      <td>37295</td>\n",
       "      <td>32787.222656</td>\n",
       "      <td>4507.777344</td>\n",
       "    </tr>\n",
       "    <tr>\n",
       "      <th>6140</th>\n",
       "      <td>1.341158</td>\n",
       "      <td>-0.915328</td>\n",
       "      <td>0.357874</td>\n",
       "      <td>-0.460069</td>\n",
       "      <td>-0.707177</td>\n",
       "      <td>0</td>\n",
       "      <td>2</td>\n",
       "      <td>2</td>\n",
       "      <td>22970</td>\n",
       "      <td>24658.103516</td>\n",
       "      <td>-1688.103516</td>\n",
       "    </tr>\n",
       "    <tr>\n",
       "      <th>...</th>\n",
       "      <td>...</td>\n",
       "      <td>...</td>\n",
       "      <td>...</td>\n",
       "      <td>...</td>\n",
       "      <td>...</td>\n",
       "      <td>...</td>\n",
       "      <td>...</td>\n",
       "      <td>...</td>\n",
       "      <td>...</td>\n",
       "      <td>...</td>\n",
       "      <td>...</td>\n",
       "    </tr>\n",
       "    <tr>\n",
       "      <th>6352</th>\n",
       "      <td>-0.038050</td>\n",
       "      <td>0.220298</td>\n",
       "      <td>0.283947</td>\n",
       "      <td>-0.926955</td>\n",
       "      <td>1.765271</td>\n",
       "      <td>3</td>\n",
       "      <td>0</td>\n",
       "      <td>2</td>\n",
       "      <td>24895</td>\n",
       "      <td>26376.193359</td>\n",
       "      <td>-1481.193359</td>\n",
       "    </tr>\n",
       "    <tr>\n",
       "      <th>28</th>\n",
       "      <td>0.421686</td>\n",
       "      <td>0.008859</td>\n",
       "      <td>0.283947</td>\n",
       "      <td>1.514630</td>\n",
       "      <td>0.116972</td>\n",
       "      <td>3</td>\n",
       "      <td>0</td>\n",
       "      <td>0</td>\n",
       "      <td>17200</td>\n",
       "      <td>19692.812500</td>\n",
       "      <td>-2492.812500</td>\n",
       "    </tr>\n",
       "    <tr>\n",
       "      <th>3904</th>\n",
       "      <td>0.881422</td>\n",
       "      <td>-0.879255</td>\n",
       "      <td>0.283947</td>\n",
       "      <td>0.045087</td>\n",
       "      <td>0.116972</td>\n",
       "      <td>3</td>\n",
       "      <td>0</td>\n",
       "      <td>0</td>\n",
       "      <td>28990</td>\n",
       "      <td>25942.921875</td>\n",
       "      <td>3047.078125</td>\n",
       "    </tr>\n",
       "    <tr>\n",
       "      <th>9027</th>\n",
       "      <td>-0.497785</td>\n",
       "      <td>0.492729</td>\n",
       "      <td>-1.416378</td>\n",
       "      <td>1.262052</td>\n",
       "      <td>0.116972</td>\n",
       "      <td>3</td>\n",
       "      <td>1</td>\n",
       "      <td>0</td>\n",
       "      <td>16800</td>\n",
       "      <td>14322.519531</td>\n",
       "      <td>2477.480469</td>\n",
       "    </tr>\n",
       "    <tr>\n",
       "      <th>6938</th>\n",
       "      <td>-0.497785</td>\n",
       "      <td>-0.228353</td>\n",
       "      <td>-0.011762</td>\n",
       "      <td>0.619127</td>\n",
       "      <td>0.116972</td>\n",
       "      <td>4</td>\n",
       "      <td>2</td>\n",
       "      <td>0</td>\n",
       "      <td>17500</td>\n",
       "      <td>19187.000000</td>\n",
       "      <td>-1687.000000</td>\n",
       "    </tr>\n",
       "  </tbody>\n",
       "</table>\n",
       "<p>3201 rows × 11 columns</p>\n",
       "</div>"
      ],
      "text/plain": [
       "           year   mileage       tax       mpg  engineSize  model  \\\n",
       "6293  -0.497785  0.672882 -0.011762  0.810474    1.765271      6   \n",
       "10006 -0.957521  2.740943 -1.416378  1.262052    0.116972      2   \n",
       "5753  -0.497785  0.262612 -0.011762  0.435434    0.116972      9   \n",
       "10623  0.881422 -0.839805  0.283947 -1.432110    0.116972      9   \n",
       "6140   1.341158 -0.915328  0.357874 -0.460069   -0.707177      0   \n",
       "...         ...       ...       ...       ...         ...    ...   \n",
       "6352  -0.038050  0.220298  0.283947 -0.926955    1.765271      3   \n",
       "28     0.421686  0.008859  0.283947  1.514630    0.116972      3   \n",
       "3904   0.881422 -0.879255  0.283947  0.045087    0.116972      3   \n",
       "9027  -0.497785  0.492729 -1.416378  1.262052    0.116972      3   \n",
       "6938  -0.497785 -0.228353 -0.011762  0.619127    0.116972      4   \n",
       "\n",
       "       transmission  fuelType   real          pred    residuals  \n",
       "6293              0         0  20200  21476.439453 -1276.439453  \n",
       "10006             1         0   8500   9293.512695  -793.512695  \n",
       "5753              1         0  15750  17019.373047 -1269.373047  \n",
       "10623             0         2  37295  32787.222656  4507.777344  \n",
       "6140              2         2  22970  24658.103516 -1688.103516  \n",
       "...             ...       ...    ...           ...          ...  \n",
       "6352              0         2  24895  26376.193359 -1481.193359  \n",
       "28                0         0  17200  19692.812500 -2492.812500  \n",
       "3904              0         0  28990  25942.921875  3047.078125  \n",
       "9027              1         0  16800  14322.519531  2477.480469  \n",
       "6938              2         0  17500  19187.000000 -1687.000000  \n",
       "\n",
       "[3201 rows x 11 columns]"
      ]
     },
     "execution_count": 32,
     "metadata": {},
     "output_type": "execute_result"
    }
   ],
   "source": [
    "pred_result"
   ]
  },
  {
   "cell_type": "code",
   "execution_count": 34,
   "id": "90bbf864-f3ca-4191-966b-6653f308c9f6",
   "metadata": {},
   "outputs": [
    {
     "name": "stdout",
     "output_type": "stream",
     "text": [
      "101/101 [==============================] - 0s 2ms/step - loss: 9951164.0000 - mae: 2132.6777\n"
     ]
    },
    {
     "data": {
      "text/plain": [
       "[9951164.0, 2132.677734375]"
      ]
     },
     "execution_count": 34,
     "metadata": {},
     "output_type": "execute_result"
    }
   ],
   "source": [
    "mlp_emb.evaluate(test_ds, y_test)"
   ]
  }
 ],
 "metadata": {
  "kernelspec": {
   "display_name": "Python 3 (ipykernel)",
   "language": "python",
   "name": "python3"
  },
  "language_info": {
   "codemirror_mode": {
    "name": "ipython",
    "version": 3
   },
   "file_extension": ".py",
   "mimetype": "text/x-python",
   "name": "python",
   "nbconvert_exporter": "python",
   "pygments_lexer": "ipython3",
   "version": "3.8.11"
  }
 },
 "nbformat": 4,
 "nbformat_minor": 5
}
